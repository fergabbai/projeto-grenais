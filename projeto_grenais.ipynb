{
  "nbformat": 4,
  "nbformat_minor": 0,
  "metadata": {
    "colab": {
      "provenance": [],
      "authorship_tag": "ABX9TyNQT0D4lgtRe7S9m7cv9ssT",
      "include_colab_link": true
    },
    "kernelspec": {
      "name": "python3",
      "display_name": "Python 3"
    },
    "language_info": {
      "name": "python"
    }
  },
  "cells": [
    {
      "cell_type": "markdown",
      "metadata": {
        "id": "view-in-github",
        "colab_type": "text"
      },
      "source": [
        "<a href=\"https://colab.research.google.com/github/fergabbai/projeto-grenais/blob/main/projeto_grenais.ipynb\" target=\"_parent\"><img src=\"https://colab.research.google.com/assets/colab-badge.svg\" alt=\"Open In Colab\"/></a>"
      ]
    },
    {
      "cell_type": "markdown",
      "source": [
        "# O projeto\n",
        "#### Este projeto consiste em armazenar o número de gols marcados nos jogos entre Internacional e Grêmio (GRENAL).\n",
        "#### Permite que o usuário insira o placar de quantoso jogos desejar, e ao fim, o programa retorna ao usuário:\n",
        "\n",
        "- Quantos GRENAIS fizeram parte da estatística.\n",
        "- O número de vitórias do Inter.\n",
        "- O número de vitórias do Grêmio.\n",
        "- O número de Empates.\n",
        "- Uma mensagem indicando qual o time que venceu o maior número de GRENAIS.\n",
        "  "
      ],
      "metadata": {
        "id": "VoKGo2c_UUfp"
      }
    },
    {
      "cell_type": "markdown",
      "source": [
        "O programa começa inicializando as variáveis **vitorias_inter**, **vitorias_gremio**, **empates** e **grenais** com zero."
      ],
      "metadata": {
        "id": "bUO1YjGwaE51"
      }
    },
    {
      "cell_type": "code",
      "source": [
        "vitorias_inter = 0\n",
        "vitorias_gremio = 0\n",
        "empates = 0\n",
        "grenais = 0"
      ],
      "metadata": {
        "id": "JAmBwJcOSilp"
      },
      "execution_count": 32,
      "outputs": []
    },
    {
      "cell_type": "markdown",
      "source": [
        "Dentro de um loop **while True**, que só será interrompido quando o usuário indicar que não quer mais continuar, o programa lê os gols marcados por Inter e Grêmio, atualiza as variáveis correspondentes e incrementa a variável **grenais**.\n",
        "\n",
        "Depois disso, o programa entra em outro loop que solicita ao usuário que informe se **deseja continuar com mais um GRENAL ou não**. Esse loop só será interrompido quando o usuário informar **1 (sim) ou 2 (não)**."
      ],
      "metadata": {
        "id": "u4nz4dWhaaRW"
      }
    },
    {
      "cell_type": "code",
      "source": [
        "while True:\n",
        "    print('Insira os gols do Inter:')\n",
        "    gols_inter = int(input())\n",
        "    print('Insira os gols do Gremio:')\n",
        "    gols_gremio = int(input())\n",
        "    grenais += 1\n",
        "\n",
        "    if gols_inter > gols_gremio:\n",
        "        vitorias_inter += 1\n",
        "    elif gols_gremio > gols_inter:\n",
        "        vitorias_gremio += 1\n",
        "    else:\n",
        "        empates += 1\n",
        "\n",
        "    print('Novo grenal (1-sim 2-nao)')\n",
        "    resposta = int(input())\n",
        "\n",
        "    if resposta == 2:\n",
        "        break"
      ],
      "metadata": {
        "id": "spKhTAaBTFFg"
      },
      "execution_count": null,
      "outputs": []
    },
    {
      "cell_type": "markdown",
      "source": [
        "Quando o usuário indicar que **não deseja mais continuar**, o programa exibe as estatísticas dos GRENAIS (quantidade de jogos, número de vitórias de cada time e número de empates)."
      ],
      "metadata": {
        "id": "t3XBAY1ZbZZf"
      }
    },
    {
      "cell_type": "code",
      "source": [
        "print(\"{} grenais\".format(grenais))\n",
        "print(\"Inter:{}\\nGremio:{}\\nEmpates:{}\".format(vitorias_inter, vitorias_gremio, empates))\n"
      ],
      "metadata": {
        "id": "HHt-I3IDTKD_"
      },
      "execution_count": null,
      "outputs": []
    },
    {
      "cell_type": "markdown",
      "source": [
        "Por fim, o programa implementa condicionais para retornar o time que mais venceu ou se houve empate (não houve vencedor)."
      ],
      "metadata": {
        "id": "5XXoDSSFbtHv"
      }
    },
    {
      "cell_type": "code",
      "source": [
        "if vitorias_inter > vitorias_gremio:\n",
        "    print(\"Inter venceu mais\")\n",
        "elif vitorias_gremio > vitorias_inter:\n",
        "    print(\"Gremio venceu mais\")\n",
        "else:\n",
        "    print(\"Nao houve vencedor\")\n"
      ],
      "metadata": {
        "id": "WN97Em2fTPo-"
      },
      "execution_count": null,
      "outputs": []
    }
  ]
}